{
  "nbformat": 4,
  "nbformat_minor": 0,
  "metadata": {
    "colab": {
      "name": "掌聿嘉 - Week15 - 課堂練習.ipynb",
      "provenance": [],
      "authorship_tag": "ABX9TyOu9hCCWxI1ln7yIEMnAL3i",
      "include_colab_link": true
    },
    "kernelspec": {
      "name": "python3",
      "display_name": "Python 3"
    },
    "language_info": {
      "name": "python"
    }
  },
  "cells": [
    {
      "cell_type": "markdown",
      "metadata": {
        "id": "view-in-github",
        "colab_type": "text"
      },
      "source": [
        "<a href=\"https://colab.research.google.com/github/a109010040/Compotational-Thinking-and-Program-Design/blob/main/%E6%8E%8C%E8%81%BF%E5%98%89_Week15_%E8%AA%B2%E5%A0%82%E7%B7%B4%E7%BF%92.ipynb\" target=\"_parent\"><img src=\"https://colab.research.google.com/assets/colab-badge.svg\" alt=\"Open In Colab\"/></a>"
      ]
    },
    {
      "cell_type": "code",
      "metadata": {
        "colab": {
          "base_uri": "https://localhost:8080/"
        },
        "id": "bRshBNTiOBDw",
        "outputId": "558f1f4e-6b0d-4965-a775-086bffe1f1d6"
      },
      "source": [
        "my = int(input(\"請出拳[0]] 剪刀[1] 石頭[2] 布[3]\"))\n",
        "print(\"我出拳為\", my)\n",
        "import random\n",
        "computer = random.randint(0,2)\n",
        "print(\"電腦出拳為\", computer)"
      ],
      "execution_count": 3,
      "outputs": [
        {
          "output_type": "stream",
          "text": [
            "請出拳[0]] 剪刀[1] 石頭[2] 布[3]2\n",
            "我出拳為 2\n",
            "電腦出拳為 1\n"
          ],
          "name": "stdout"
        }
      ]
    },
    {
      "cell_type": "code",
      "metadata": {
        "colab": {
          "base_uri": "https://localhost:8080/"
        },
        "id": "POsQIsDGPEBj",
        "outputId": "bf530224-943a-4e22-85c5-45946d8b5bfe"
      },
      "source": [
        "my_choice = int(input(\"請出拳[0]蟲 雞[1] 老虎[2] 棒子[3]\"))\n",
        "print(\"你出的拳:\", my_choice)\n",
        "import random\n",
        "computer = random.randint(0,3)\n",
        "print(\"電腦出拳為\", computer)"
      ],
      "execution_count": 8,
      "outputs": [
        {
          "output_type": "stream",
          "text": [
            "請出拳[0]蟲 雞[1] 老虎[2] 棒子[3]0\n",
            "你出的拳: 0\n",
            "電腦出拳為 1\n"
          ],
          "name": "stdout"
        }
      ]
    },
    {
      "cell_type": "code",
      "metadata": {
        "id": "dPjslEnSUD5K"
      },
      "source": [
        ""
      ],
      "execution_count": null,
      "outputs": []
    }
  ]
}