{
  "nbformat": 4,
  "nbformat_minor": 0,
  "metadata": {
    "kernelspec": {
      "display_name": "Python 3",
      "language": "python",
      "name": "python3"
    },
    "language_info": {
      "codemirror_mode": {
        "name": "ipython",
        "version": 3
      },
      "file_extension": ".py",
      "mimetype": "text/x-python",
      "name": "python",
      "nbconvert_exporter": "python",
      "pygments_lexer": "ipython3",
      "version": "3.8.5"
    },
    "colab": {
      "name": "「掌聿嘉 - Week13 - 作業習題.ipynb」的副本",
      "provenance": [],
      "include_colab_link": true
    }
  },
  "cells": [
    {
      "cell_type": "markdown",
      "metadata": {
        "id": "view-in-github",
        "colab_type": "text"
      },
      "source": [
        "<a href=\"https://colab.research.google.com/github/a109010040/Compotational-Thinking-and-Program-Design/blob/main/%E3%80%8C%E6%8E%8C%E8%81%BF%E5%98%89_Week13_%E4%BD%9C%E6%A5%AD%E7%BF%92%E9%A1%8C_ipynb%E3%80%8D%E7%9A%84%E5%89%AF%E6%9C%AC.ipynb\" target=\"_parent\"><img src=\"https://colab.research.google.com/assets/colab-badge.svg\" alt=\"Open In Colab\"/></a>"
      ]
    },
    {
      "cell_type": "markdown",
      "metadata": {
        "id": "lhYviYLJzsh0"
      },
      "source": [
        "**隨堂練習1： BMI 計算**\n",
        "\n",
        "請寫一個程式讓使用者輸入身高與體重，顯示BMI 值與肥胖程度。 BMI 等於體重（KG）除以身高（M）的平方，而BMI 與肥胖分類標準如下：\n",
        "\n",
        "若BMI 值小於18，則顯示「體重過輕」，否則若BMI 值小於24，則顯示「體重正常」，若BMI 值小於27，則顯示「體重過重」，否則顯示「體重肥胖」。"
      ]
    },
    {
      "cell_type": "code",
      "metadata": {
        "id": "8WIyba5Ozsh3",
        "colab": {
          "base_uri": "https://localhost:8080/"
        },
        "outputId": "24e5bb76-56a2-40dc-ad4e-404bbf9be499"
      },
      "source": [
        "w = float(input('請輸入體重(KG)?'))\n",
        "h = float(input('請輸入身高(M)?'))\n",
        "bmi = w/(h*h)\n",
        "print('BMI為' , bmi)\n",
        "if bmi < 18:\n",
        "  print('體重過輕')\n",
        "elif bmi < 24:\n",
        "  print('體重正常')  \n",
        "elif bmi < 27:\n",
        "  print('體重過重')  \n",
        "else:\n",
        "  print('體重肥胖')  "
      ],
      "execution_count": 4,
      "outputs": [
        {
          "output_type": "stream",
          "text": [
            "請輸入體重(KG)?48\n",
            "請輸入身高(M)?168\n",
            "BMI為 0.0017006802721088435\n",
            "體重過輕\n"
          ],
          "name": "stdout"
        }
      ]
    },
    {
      "cell_type": "markdown",
      "metadata": {
        "id": "lMuaSLvQzsh3"
      },
      "source": [
        "**隨堂練習2： 三一律(單向選擇、雙向與巢狀選擇、多向選擇)**\n",
        "\n",
        "請輸入一個數，然後判斷這個數是正數、是負數或者是零。"
      ]
    },
    {
      "cell_type": "code",
      "metadata": {
        "id": "LUX9v4nCzsh4",
        "colab": {
          "base_uri": "https://localhost:8080/"
        },
        "outputId": "af07e176-06d5-42a8-a174-b5affd929090"
      },
      "source": [
        "num = int(input(\"Pick a number: \"))\n",
        "if num > 0:\n",
        "  print(\"Your number is positive.\")\n",
        "if num < 0:\n",
        "  print(\"Your number is negative.\")\n",
        "if num == 0:\n",
        "  print(\"Your number is zero.\")\n",
        "print(\"Finished.\")"
      ],
      "execution_count": 3,
      "outputs": [
        {
          "output_type": "stream",
          "text": [
            "Pick a number: 60\n",
            "Your number is positive.\n",
            "Finished.\n"
          ],
          "name": "stdout"
        }
      ]
    },
    {
      "cell_type": "markdown",
      "metadata": {
        "id": "4lyEBCvLzsh5"
      },
      "source": [
        "**練習5   體溫與發燒**\n",
        "\n",
        "設計程式根據體溫判斷是否發燒，由使用者輸入體溫，程式判斷是否發燒，假設體溫小於36度，顯示「體溫過低」，體溫大於等於36度小於38度，顯示「體溫正常」，否則若體溫大於等於38度小於39度，顯示「體溫有點燒」，否則體溫大於等於39度，顯示「體溫很燒」。\n",
        "\n",
        "輸入體溫「36.5」，輸出為「體溫正常」。\n",
        "\n",
        "～程式執行結果如下。\n",
        "\n",
        "請輸入體溫？36.5\n",
        "\n",
        "體溫正常"
      ]
    },
    {
      "cell_type": "code",
      "metadata": {
        "id": "sXraRHw1zsh6",
        "colab": {
          "base_uri": "https://localhost:8080/"
        },
        "outputId": "5dd3513e-282a-4cb3-b1fc-02181fdd4196"
      },
      "source": [
        "temp = int(input('請輸入體溫: '))\n",
        "if temp < 36:\n",
        "  print('體重過低')\n",
        "if temp >= 36 and temp < 38:\n",
        "  print('體溫正常')  \n",
        "if temp >= 38 and temp < 39:\n",
        "  print('體溫有點燒')  \n",
        "if temp >= 39:\n",
        "  print('體溫很燒')  \n",
        "\n"
      ],
      "execution_count": 88,
      "outputs": [
        {
          "output_type": "stream",
          "text": [
            "請輸入體溫: 36\n",
            "體溫正常\n"
          ],
          "name": "stdout"
        }
      ]
    },
    {
      "cell_type": "markdown",
      "metadata": {
        "id": "jlOBKPFdzsh6"
      },
      "source": [
        "**練習6  閏年判斷**\n",
        "\n",
        "設計程式允許輸入西元幾年，請求出該年是否是閏年，閏年表示該年多一天，若為4的倍數稱做閏年，但若為100的倍數就不為閏年，且若為400倍數又是閏年。(四年一潤、百年不潤、四百年再潤)\n",
        "\n",
        "輸入年份「2012」，輸出為「2012是閏年」。\n",
        "\n",
        "～程式執行結果如下。\n",
        "\n",
        "請輸入年份？2012\n",
        "\n",
        "2012 是閏年"
      ]
    },
    {
      "cell_type": "code",
      "metadata": {
        "id": "fu9129DZzsh7",
        "colab": {
          "base_uri": "https://localhost:8080/"
        },
        "outputId": "2c3cbe7d-333c-4c84-bbe1-78dcf94426c5"
      },
      "source": [
        "year = int(input(\"請輸入年分: \"))\n",
        "if (year % 4) == 0:\n",
        "  print(\"{0} 是闰年\".format(year)) \n",
        "if (year % 100) == 0:\n",
        "  print(\"{0} 不是闰年\".format(year))\n",
        "if (year % 400) == 0:\n",
        "   print(\"{0} 是闰年\".format(year)) \n"
      ],
      "execution_count": 78,
      "outputs": [
        {
          "output_type": "stream",
          "text": [
            "請輸入年分: 2012\n",
            "2012 是闰年\n"
          ],
          "name": "stdout"
        }
      ]
    },
    {
      "cell_type": "markdown",
      "metadata": {
        "id": "XUK7PEw8zsh7"
      },
      "source": [
        "**練習12：計程車計費**\n",
        "\n",
        "某城市計程車計費3公里以內6元，超過3公里不足10公里、每公里1.8元，超過10公里則超過部分加收50%。此外停車等候每3分鐘收1元，請用Python寫出車費是多少。"
      ]
    },
    {
      "cell_type": "code",
      "metadata": {
        "id": "RkBAdeqAzsh8",
        "colab": {
          "base_uri": "https://localhost:8080/",
          "height": 130
        },
        "outputId": "578f6ac4-4ff9-4b84-e339-1bc50cdebf78"
      },
      "source": [
        "km = float(input('請輸入公里數：'))\n",
        "if km <= 3:\n",
        "  print('需要支付6元車費!')\n",
        "if km <= 10 and km > 3:\n",
        "cost = km * 1.8\n",
        "  print('需要支付cost元車費！')\n",
        "if km > 10:\n",
        "cost = (km - 10)) * 1.5 + (10 * 1.8)\n",
        "  print('需要支付cost元車費!')\n"
      ],
      "execution_count": 93,
      "outputs": [
        {
          "output_type": "error",
          "ename": "IndentationError",
          "evalue": "ignored",
          "traceback": [
            "\u001b[0;36m  File \u001b[0;32m\"<ipython-input-93-4bc02a8d7bd8>\"\u001b[0;36m, line \u001b[0;32m5\u001b[0m\n\u001b[0;31m    cost = km * 1.8\u001b[0m\n\u001b[0m       ^\u001b[0m\n\u001b[0;31mIndentationError\u001b[0m\u001b[0;31m:\u001b[0m expected an indented block\n"
          ]
        }
      ]
    },
    {
      "cell_type": "code",
      "metadata": {
        "id": "zac7DuRSzsh8"
      },
      "source": [
        ""
      ],
      "execution_count": null,
      "outputs": []
    }
  ]
}