{
  "nbformat": 4,
  "nbformat_minor": 0,
  "metadata": {
    "colab": {
      "name": "掌聿嘉-Week4-練習作業.ipynb",
      "provenance": [],
      "authorship_tag": "ABX9TyNuDgwDiMNldQcPcCvc/El+",
      "include_colab_link": true
    },
    "kernelspec": {
      "name": "python3",
      "display_name": "Python 3"
    }
  },
  "cells": [
    {
      "cell_type": "markdown",
      "metadata": {
        "id": "view-in-github",
        "colab_type": "text"
      },
      "source": [
        "<a href=\"https://colab.research.google.com/github/a109010040/Compotational-Thinking-and-Program-Design/blob/main/%E6%8E%8C%E8%81%BF%E5%98%89_Week4_%E7%B7%B4%E7%BF%92%E4%BD%9C%E6%A5%AD.ipynb\" target=\"_parent\"><img src=\"https://colab.research.google.com/assets/colab-badge.svg\" alt=\"Open In Colab\"/></a>"
      ]
    },
    {
      "cell_type": "markdown",
      "metadata": {
        "id": "cp7jSSvKWZ37"
      },
      "source": [
        ""
      ]
    },
    {
      "cell_type": "markdown",
      "metadata": {
        "id": "L_G3Lx7xXNJV"
      },
      "source": [
        "#隨堂練習"
      ]
    },
    {
      "cell_type": "markdown",
      "metadata": {
        "id": "qZkJ6QR2XnUS"
      },
      "source": [
        "各單元重點摘要\r\n"
      ]
    },
    {
      "cell_type": "markdown",
      "metadata": {
        "id": "hQe42YbKXv-I"
      },
      "source": [
        "#課後練習"
      ]
    },
    {
      "cell_type": "markdown",
      "metadata": {
        "id": "t5rXDR7gX0ye"
      },
      "source": [
        "**從一則新聞報導，提出你對新聞系學生為什麼要學「運算思維與程式設計」的見解。（告訴我新聞連結，以及你的觀點即可。）**"
      ]
    },
    {
      "cell_type": "markdown",
      "metadata": {
        "id": "wHXs9twvd_7t"
      },
      "source": [
        "因應AI時代的來臨，教育部積極培育非資訊科系大學生也能具備運算思維與基礎程式設計的能力，以期能將程式概念與自身專業領域相結合，而對新聞系的學生來說，科技的進步帶來的不僅是硬體上的改變，更多的是我們在面對這股新潮流時的態度及應對方法。學習運算思維及程式設計不僅能增進我們基礎的電腦能力，更能培養我們的思維模式，\r\n",
        "這對我們在未來的職場上會有很大的幫助。\r\n",
        "\r\n",
        "https://epaper.edu.tw/topical.aspx?period_num=928&topical_sn=1154&page=0"
      ]
    },
    {
      "cell_type": "code",
      "metadata": {
        "id": "V48xkIUud7oi"
      },
      "source": [
        ""
      ],
      "execution_count": null,
      "outputs": []
    }
  ]
}